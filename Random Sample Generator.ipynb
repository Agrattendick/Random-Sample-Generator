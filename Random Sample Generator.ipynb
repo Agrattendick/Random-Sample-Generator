{
 "cells": [
  {
   "cell_type": "code",
   "execution_count": 1,
   "metadata": {},
   "outputs": [],
   "source": [
    "import random\n",
    "import pandas as pd"
   ]
  },
  {
   "cell_type": "code",
   "execution_count": 2,
   "metadata": {},
   "outputs": [
    {
     "name": "stdout",
     "output_type": "stream",
     "text": [
      "Size of population: 100\n",
      "Size of Sample: 30\n",
      "Generating random sample.\n"
     ]
    }
   ],
   "source": [
    "# Gather population & sample data.\n",
    "while True:\n",
    "    # Collect population and sample sizes.\n",
    "    s = int(input('Size of population: '))\n",
    "    n = int(input('Size of Sample: '))\n",
    "    # Verify that the sample is smaller than the population.\n",
    "    if s>n:\n",
    "        break\n",
    "    else:\n",
    "        print('Sample size entered was larger than population.')\n",
    "print('Generating random sample.')"
   ]
  },
  {
   "cell_type": "code",
   "execution_count": 3,
   "metadata": {},
   "outputs": [],
   "source": [
    "# Generate the random sample.\n",
    "rs = []\n",
    "while len(rs) < n:\n",
    "    rs.append(random.randint(1,s))\n",
    "    rs = list(dict.fromkeys(rs))\n",
    "rs.sort()"
   ]
  },
  {
   "cell_type": "code",
   "execution_count": 4,
   "metadata": {},
   "outputs": [],
   "source": [
    "# Generate the index\n",
    "indx= []\n",
    "for i in range(n):\n",
    "    indx.append(i+1)\n",
    "    i +=1"
   ]
  },
  {
   "cell_type": "code",
   "execution_count": 5,
   "metadata": {},
   "outputs": [],
   "source": [
    "# create a dataframe from the index and random sample.\n",
    "random_sample_df = pd.DataFrame(\n",
    "    {'n': indx,\n",
    "     'random sample value': rs})\n",
    "random_sample_df = random_sample_df.set_index('n')"
   ]
  },
  {
   "cell_type": "code",
   "execution_count": 6,
   "metadata": {},
   "outputs": [
    {
     "name": "stdout",
     "output_type": "stream",
     "text": [
      "random sample.csv exported\n"
     ]
    }
   ],
   "source": [
    "# export dataframe to csv file\n",
    "random_sample_df.to_csv('csv files/random sample.csv')\n",
    "print('random sample.csv exported')"
   ]
  },
  {
   "cell_type": "code",
   "execution_count": null,
   "metadata": {},
   "outputs": [],
   "source": []
  }
 ],
 "metadata": {
  "kernelspec": {
   "display_name": "Python 3",
   "language": "python",
   "name": "python3"
  },
  "language_info": {
   "codemirror_mode": {
    "name": "ipython",
    "version": 3
   },
   "file_extension": ".py",
   "mimetype": "text/x-python",
   "name": "python",
   "nbconvert_exporter": "python",
   "pygments_lexer": "ipython3",
   "version": "3.7.3"
  }
 },
 "nbformat": 4,
 "nbformat_minor": 2
}
